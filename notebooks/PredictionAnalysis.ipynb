{
 "cells": [
  {
   "cell_type": "code",
   "execution_count": 2,
   "metadata": {},
   "outputs": [],
   "source": [
    "import pandas as pd\n",
    "import numpy as np\n",
    "import matplotlib.pyplot as plt\n",
    "import seaborn as sns\n",
    "import plotly.express as px\n",
    "import plotly.io as pio\n",
    "import os\n",
    "import sys\n",
    "import logging\n",
    "from sklearn.ensemble import RandomForestRegressor\n",
    "from sklearn.model_selection import train_test_split\n",
    "from sklearn.pipeline import Pipeline\n",
    "from sklearn.preprocessing import StandardScaler\n",
    "from sklearn.impute import SimpleImputer\n",
    "from sklearn.metrics import mean_squared_error"
   ]
  },
  {
   "cell_type": "code",
   "execution_count": 3,
   "metadata": {},
   "outputs": [],
   "source": [
    "sys.path.insert(0, os.path.abspath('..'))\n",
    "# Load scripts from path\n",
    "sys.path.append('/home/olani/Documents/kifiya/week4/Rossmann-store-sales/scripts')"
   ]
  },
  {
   "cell_type": "code",
   "execution_count": 4,
   "metadata": {},
   "outputs": [],
   "source": [
    "from scripts.data_loader import load_data\n",
    "from scripts.utils import setup_logger"
   ]
  },
  {
   "cell_type": "code",
   "execution_count": 5,
   "metadata": {},
   "outputs": [],
   "source": [
    "# Ignore some future warnings triggered when training\n",
    "import warnings\n",
    "warnings.filterwarnings(action=\"ignore\", category=FutureWarning)"
   ]
  },
  {
   "cell_type": "code",
   "execution_count": 6,
   "metadata": {},
   "outputs": [
    {
     "data": {
      "text/plain": [
       "<RootLogger root (INFO)>"
      ]
     },
     "execution_count": 6,
     "metadata": {},
     "output_type": "execute_result"
    }
   ],
   "source": [
    "# Set up logging\n",
    "setup_logger()"
   ]
  },
  {
   "cell_type": "code",
   "execution_count": 7,
   "metadata": {},
   "outputs": [],
   "source": [
    "# Load data\n",
    "train_df = load_data('../data/processed/train_df.csv')\n",
    "test_df = load_data('../data/processed/test_df.csv')\n",
    "store_df = load_data('../data/processed/store_df.csv')"
   ]
  },
  {
   "cell_type": "code",
   "execution_count": 8,
   "metadata": {},
   "outputs": [
    {
     "name": "stdout",
     "output_type": "stream",
     "text": [
      "<class 'pandas.core.frame.DataFrame'>\n",
      "RangeIndex: 1007478 entries, 0 to 1007477\n",
      "Data columns (total 23 columns):\n",
      " #   Column                     Non-Null Count    Dtype  \n",
      "---  ------                     --------------    -----  \n",
      " 0   Store                      1007478 non-null  int64  \n",
      " 1   DayOfWeek                  1007478 non-null  int64  \n",
      " 2   Date                       1007478 non-null  object \n",
      " 3   Sales                      1007478 non-null  int64  \n",
      " 4   Customers                  1007478 non-null  int64  \n",
      " 5   Open                       1007478 non-null  int64  \n",
      " 6   Promo                      1007478 non-null  int64  \n",
      " 7   StateHoliday               1007478 non-null  object \n",
      " 8   SchoolHoliday              1007478 non-null  int64  \n",
      " 9   Year                       1007478 non-null  int64  \n",
      " 10  Month                      1007478 non-null  int64  \n",
      " 11  Day                        1007478 non-null  int64  \n",
      " 12  BeforeHoliday              1007478 non-null  object \n",
      " 13  AfterHoliday               1007478 non-null  object \n",
      " 14  StoreType                  1007478 non-null  object \n",
      " 15  Assortment                 1007478 non-null  object \n",
      " 16  CompetitionDistance        1007478 non-null  float64\n",
      " 17  CompetitionOpenSinceMonth  1007478 non-null  float64\n",
      " 18  CompetitionOpenSinceYear   1007478 non-null  float64\n",
      " 19  Promo2                     1007478 non-null  int64  \n",
      " 20  Promo2SinceWeek            1007478 non-null  float64\n",
      " 21  Promo2SinceYear            1007478 non-null  float64\n",
      " 22  PromoInterval              507292 non-null   object \n",
      "dtypes: float64(5), int64(11), object(7)\n",
      "memory usage: 176.8+ MB\n"
     ]
    }
   ],
   "source": [
    "train_df.info()"
   ]
  },
  {
   "cell_type": "code",
   "execution_count": 9,
   "metadata": {},
   "outputs": [
    {
     "data": {
      "text/html": [
       "<div>\n",
       "<style scoped>\n",
       "    .dataframe tbody tr th:only-of-type {\n",
       "        vertical-align: middle;\n",
       "    }\n",
       "\n",
       "    .dataframe tbody tr th {\n",
       "        vertical-align: top;\n",
       "    }\n",
       "\n",
       "    .dataframe thead th {\n",
       "        text-align: right;\n",
       "    }\n",
       "</style>\n",
       "<table border=\"1\" class=\"dataframe\">\n",
       "  <thead>\n",
       "    <tr style=\"text-align: right;\">\n",
       "      <th></th>\n",
       "      <th>Store</th>\n",
       "      <th>DayOfWeek</th>\n",
       "      <th>Date</th>\n",
       "      <th>Sales</th>\n",
       "      <th>Customers</th>\n",
       "      <th>Open</th>\n",
       "      <th>Promo</th>\n",
       "      <th>StateHoliday</th>\n",
       "      <th>SchoolHoliday</th>\n",
       "      <th>Year</th>\n",
       "      <th>...</th>\n",
       "      <th>AfterHoliday</th>\n",
       "      <th>StoreType</th>\n",
       "      <th>Assortment</th>\n",
       "      <th>CompetitionDistance</th>\n",
       "      <th>CompetitionOpenSinceMonth</th>\n",
       "      <th>CompetitionOpenSinceYear</th>\n",
       "      <th>Promo2</th>\n",
       "      <th>Promo2SinceWeek</th>\n",
       "      <th>Promo2SinceYear</th>\n",
       "      <th>PromoInterval</th>\n",
       "    </tr>\n",
       "  </thead>\n",
       "  <tbody>\n",
       "    <tr>\n",
       "      <th>0</th>\n",
       "      <td>1</td>\n",
       "      <td>5</td>\n",
       "      <td>2015-07-31</td>\n",
       "      <td>5263</td>\n",
       "      <td>555</td>\n",
       "      <td>1</td>\n",
       "      <td>1</td>\n",
       "      <td>0</td>\n",
       "      <td>1</td>\n",
       "      <td>2015</td>\n",
       "      <td>...</td>\n",
       "      <td>0</td>\n",
       "      <td>c</td>\n",
       "      <td>a</td>\n",
       "      <td>1270.0</td>\n",
       "      <td>9.0</td>\n",
       "      <td>2008.0</td>\n",
       "      <td>0</td>\n",
       "      <td>0.0</td>\n",
       "      <td>0.0</td>\n",
       "      <td>NaN</td>\n",
       "    </tr>\n",
       "    <tr>\n",
       "      <th>1</th>\n",
       "      <td>2</td>\n",
       "      <td>5</td>\n",
       "      <td>2015-07-31</td>\n",
       "      <td>6064</td>\n",
       "      <td>625</td>\n",
       "      <td>1</td>\n",
       "      <td>1</td>\n",
       "      <td>0</td>\n",
       "      <td>1</td>\n",
       "      <td>2015</td>\n",
       "      <td>...</td>\n",
       "      <td>0</td>\n",
       "      <td>a</td>\n",
       "      <td>a</td>\n",
       "      <td>570.0</td>\n",
       "      <td>11.0</td>\n",
       "      <td>2007.0</td>\n",
       "      <td>1</td>\n",
       "      <td>13.0</td>\n",
       "      <td>2010.0</td>\n",
       "      <td>Jan,Apr,Jul,Oct</td>\n",
       "    </tr>\n",
       "    <tr>\n",
       "      <th>2</th>\n",
       "      <td>3</td>\n",
       "      <td>5</td>\n",
       "      <td>2015-07-31</td>\n",
       "      <td>8314</td>\n",
       "      <td>821</td>\n",
       "      <td>1</td>\n",
       "      <td>1</td>\n",
       "      <td>0</td>\n",
       "      <td>1</td>\n",
       "      <td>2015</td>\n",
       "      <td>...</td>\n",
       "      <td>0</td>\n",
       "      <td>a</td>\n",
       "      <td>a</td>\n",
       "      <td>14130.0</td>\n",
       "      <td>12.0</td>\n",
       "      <td>2006.0</td>\n",
       "      <td>1</td>\n",
       "      <td>14.0</td>\n",
       "      <td>2011.0</td>\n",
       "      <td>Jan,Apr,Jul,Oct</td>\n",
       "    </tr>\n",
       "    <tr>\n",
       "      <th>3</th>\n",
       "      <td>4</td>\n",
       "      <td>5</td>\n",
       "      <td>2015-07-31</td>\n",
       "      <td>13995</td>\n",
       "      <td>1498</td>\n",
       "      <td>1</td>\n",
       "      <td>1</td>\n",
       "      <td>0</td>\n",
       "      <td>1</td>\n",
       "      <td>2015</td>\n",
       "      <td>...</td>\n",
       "      <td>0</td>\n",
       "      <td>c</td>\n",
       "      <td>c</td>\n",
       "      <td>620.0</td>\n",
       "      <td>9.0</td>\n",
       "      <td>2009.0</td>\n",
       "      <td>0</td>\n",
       "      <td>0.0</td>\n",
       "      <td>0.0</td>\n",
       "      <td>NaN</td>\n",
       "    </tr>\n",
       "    <tr>\n",
       "      <th>4</th>\n",
       "      <td>5</td>\n",
       "      <td>5</td>\n",
       "      <td>2015-07-31</td>\n",
       "      <td>4822</td>\n",
       "      <td>559</td>\n",
       "      <td>1</td>\n",
       "      <td>1</td>\n",
       "      <td>0</td>\n",
       "      <td>1</td>\n",
       "      <td>2015</td>\n",
       "      <td>...</td>\n",
       "      <td>0</td>\n",
       "      <td>a</td>\n",
       "      <td>a</td>\n",
       "      <td>29910.0</td>\n",
       "      <td>4.0</td>\n",
       "      <td>2015.0</td>\n",
       "      <td>0</td>\n",
       "      <td>0.0</td>\n",
       "      <td>0.0</td>\n",
       "      <td>NaN</td>\n",
       "    </tr>\n",
       "  </tbody>\n",
       "</table>\n",
       "<p>5 rows × 23 columns</p>\n",
       "</div>"
      ],
      "text/plain": [
       "   Store  DayOfWeek        Date  Sales  Customers  Open  Promo StateHoliday  \\\n",
       "0      1          5  2015-07-31   5263        555     1      1            0   \n",
       "1      2          5  2015-07-31   6064        625     1      1            0   \n",
       "2      3          5  2015-07-31   8314        821     1      1            0   \n",
       "3      4          5  2015-07-31  13995       1498     1      1            0   \n",
       "4      5          5  2015-07-31   4822        559     1      1            0   \n",
       "\n",
       "   SchoolHoliday  Year  ...  AfterHoliday  StoreType Assortment  \\\n",
       "0              1  2015  ...             0          c          a   \n",
       "1              1  2015  ...             0          a          a   \n",
       "2              1  2015  ...             0          a          a   \n",
       "3              1  2015  ...             0          c          c   \n",
       "4              1  2015  ...             0          a          a   \n",
       "\n",
       "  CompetitionDistance CompetitionOpenSinceMonth CompetitionOpenSinceYear  \\\n",
       "0              1270.0                       9.0                   2008.0   \n",
       "1               570.0                      11.0                   2007.0   \n",
       "2             14130.0                      12.0                   2006.0   \n",
       "3               620.0                       9.0                   2009.0   \n",
       "4             29910.0                       4.0                   2015.0   \n",
       "\n",
       "   Promo2  Promo2SinceWeek  Promo2SinceYear    PromoInterval  \n",
       "0       0              0.0              0.0              NaN  \n",
       "1       1             13.0           2010.0  Jan,Apr,Jul,Oct  \n",
       "2       1             14.0           2011.0  Jan,Apr,Jul,Oct  \n",
       "3       0              0.0              0.0              NaN  \n",
       "4       0              0.0              0.0              NaN  \n",
       "\n",
       "[5 rows x 23 columns]"
      ]
     },
     "execution_count": 9,
     "metadata": {},
     "output_type": "execute_result"
    }
   ],
   "source": [
    "train_df.head()"
   ]
  },
  {
   "cell_type": "code",
   "execution_count": 10,
   "metadata": {},
   "outputs": [
    {
     "data": {
      "text/plain": [
       "Index(['Store', 'DayOfWeek', 'Date', 'Sales', 'Customers', 'Open', 'Promo',\n",
       "       'StateHoliday', 'SchoolHoliday', 'Year', 'Month', 'Day',\n",
       "       'BeforeHoliday', 'AfterHoliday', 'StoreType', 'Assortment',\n",
       "       'CompetitionDistance', 'CompetitionOpenSinceMonth',\n",
       "       'CompetitionOpenSinceYear', 'Promo2', 'Promo2SinceWeek',\n",
       "       'Promo2SinceYear', 'PromoInterval'],\n",
       "      dtype='object')"
      ]
     },
     "execution_count": 10,
     "metadata": {},
     "output_type": "execute_result"
    }
   ],
   "source": [
    "train_df.columns"
   ]
  },
  {
   "cell_type": "code",
   "execution_count": 11,
   "metadata": {},
   "outputs": [],
   "source": [
    "train_df['Date'] = pd.to_datetime(train_df['Date'])\n",
    "test_df['Date'] = pd.to_datetime(test_df['Date'])"
   ]
  },
  {
   "cell_type": "code",
   "execution_count": 12,
   "metadata": {},
   "outputs": [
    {
     "name": "stdout",
     "output_type": "stream",
     "text": [
      "<class 'pandas.core.frame.DataFrame'>\n",
      "RangeIndex: 1007478 entries, 0 to 1007477\n",
      "Data columns (total 23 columns):\n",
      " #   Column                     Non-Null Count    Dtype         \n",
      "---  ------                     --------------    -----         \n",
      " 0   Store                      1007478 non-null  int64         \n",
      " 1   DayOfWeek                  1007478 non-null  int64         \n",
      " 2   Date                       1007478 non-null  datetime64[ns]\n",
      " 3   Sales                      1007478 non-null  int64         \n",
      " 4   Customers                  1007478 non-null  int64         \n",
      " 5   Open                       1007478 non-null  int64         \n",
      " 6   Promo                      1007478 non-null  int64         \n",
      " 7   StateHoliday               1007478 non-null  object        \n",
      " 8   SchoolHoliday              1007478 non-null  int64         \n",
      " 9   Year                       1007478 non-null  int64         \n",
      " 10  Month                      1007478 non-null  int64         \n",
      " 11  Day                        1007478 non-null  int64         \n",
      " 12  BeforeHoliday              1007478 non-null  object        \n",
      " 13  AfterHoliday               1007478 non-null  object        \n",
      " 14  StoreType                  1007478 non-null  object        \n",
      " 15  Assortment                 1007478 non-null  object        \n",
      " 16  CompetitionDistance        1007478 non-null  float64       \n",
      " 17  CompetitionOpenSinceMonth  1007478 non-null  float64       \n",
      " 18  CompetitionOpenSinceYear   1007478 non-null  float64       \n",
      " 19  Promo2                     1007478 non-null  int64         \n",
      " 20  Promo2SinceWeek            1007478 non-null  float64       \n",
      " 21  Promo2SinceYear            1007478 non-null  float64       \n",
      " 22  PromoInterval              507292 non-null   object        \n",
      "dtypes: datetime64[ns](1), float64(5), int64(11), object(6)\n",
      "memory usage: 176.8+ MB\n"
     ]
    }
   ],
   "source": [
    "train_df.info()"
   ]
  },
  {
   "cell_type": "markdown",
   "metadata": {},
   "source": [
    "### Generate New Features from DateTime Columns"
   ]
  },
  {
   "cell_type": "markdown",
   "metadata": {},
   "source": [
    "Weekday"
   ]
  },
  {
   "cell_type": "code",
   "execution_count": 13,
   "metadata": {},
   "outputs": [],
   "source": [
    "# Extracting the weekday (0 = Monday, 6 = Sunday)\n",
    "train_df['Weekday'] = train_df['Date'].dt.weekday\n",
    "test_df['Weekday'] = test_df['Date'].dt.weekday"
   ]
  },
  {
   "cell_type": "markdown",
   "metadata": {},
   "source": [
    "weekends"
   ]
  },
  {
   "cell_type": "code",
   "execution_count": 14,
   "metadata": {},
   "outputs": [],
   "source": [
    "# Binary feature for weekends (1 = weekend, 0 = weekday)\n",
    "train_df['Is_Weekend'] = train_df['Weekday'].apply(lambda x: 1 if x >= 5 else 0)\n",
    "test_df['Is_Weekend'] = test_df['Weekday'].apply(lambda x: 1 if x >= 5 else 0)\n"
   ]
  },
  {
   "cell_type": "markdown",
   "metadata": {},
   "source": []
  },
  {
   "cell_type": "code",
   "execution_count": 15,
   "metadata": {},
   "outputs": [],
   "source": [
    "import holidays\n",
    "# Initialize the holidays object for a specific country\n",
    "us_holidays = holidays.US()\n",
    "\n",
    "# with a specific year range\n",
    "years = train_df['Date'].dt.year.unique()\n",
    "us_holidays = holidays.US(years=years)"
   ]
  },
  {
   "cell_type": "markdown",
   "metadata": {},
   "source": [
    "Number of Days to Holidays"
   ]
  },
  {
   "cell_type": "code",
   "execution_count": 16,
   "metadata": {},
   "outputs": [],
   "source": [
    "# Function to compute the number of days to the next holiday\n",
    "def days_to_next_holiday(date, holiday_dates):\n",
    "    future_holidays = [holiday for holiday in holiday_dates if holiday > date]\n",
    "    if future_holidays:\n",
    "        return (min(future_holidays) - date).days\n",
    "    else:\n",
    "        return np.nan\n",
    "\n",
    "# Get the list of holiday dates from the holiday object\n",
    "holiday_dates = pd.to_datetime(list(us_holidays.keys()))\n",
    "\n",
    "# Apply the function to calculate the number of days to the next holiday\n",
    "train_df['Days_To_Holiday'] = train_df['Date'].apply(lambda x: days_to_next_holiday(x, holiday_dates))\n",
    "test_df['Days_To_Holiday'] = test_df['Date'].apply(lambda x: days_to_next_holiday(x, holiday_dates))"
   ]
  },
  {
   "cell_type": "markdown",
   "metadata": {},
   "source": [
    "Number of Days After a Holiday"
   ]
  },
  {
   "cell_type": "code",
   "execution_count": 17,
   "metadata": {},
   "outputs": [],
   "source": [
    "# Function to compute the number of days since the last holiday\n",
    "def days_after_last_holiday(date, holiday_dates):\n",
    "    past_holidays = [holiday for holiday in holiday_dates if holiday < date]\n",
    "    if past_holidays:\n",
    "        return (date - max(past_holidays)).days\n",
    "    else:\n",
    "        return np.nan\n",
    "\n",
    "# Apply the function to calculate the number of days after the last holiday\n",
    "train_df['Days_After_Holiday'] = train_df['Date'].apply(lambda x: days_after_last_holiday(x, holiday_dates))\n",
    "test_df['Days_After_Holiday'] = test_df['Date'].apply(lambda x: days_after_last_holiday(x, holiday_dates))"
   ]
  },
  {
   "cell_type": "markdown",
   "metadata": {},
   "source": [
    "Beginning, Mid, and End of the Month"
   ]
  },
  {
   "cell_type": "code",
   "execution_count": 18,
   "metadata": {},
   "outputs": [],
   "source": [
    "# Function to categorize beginning, mid, and end of the month\n",
    "def month_phase(day):\n",
    "    if day <= 10:\n",
    "        return 'Beginning'\n",
    "    elif 11 <= day <= 20:\n",
    "        return 'Mid'\n",
    "    else:\n",
    "        return 'End'\n",
    "\n",
    "# Applying to the Date column\n",
    "train_df['Month_Phase'] = train_df['Date'].dt.day.apply(month_phase)\n",
    "test_df['Month_Phase'] = test_df['Date'].dt.day.apply(month_phase)"
   ]
  },
  {
   "cell_type": "markdown",
   "metadata": {},
   "source": [
    "Month Start/End"
   ]
  },
  {
   "cell_type": "code",
   "execution_count": 19,
   "metadata": {},
   "outputs": [],
   "source": [
    "# Binary features for month start and end\n",
    "train_df['Is_Month_Start'] = train_df['Date'].dt.is_month_start.astype(int)\n",
    "test_df['Is_Month_Start'] = test_df['Date'].dt.is_month_start.astype(int)\n",
    "\n",
    "train_df['Is_Month_End'] = train_df['Date'].dt.is_month_end.astype(int)\n",
    "test_df['Is_Month_End'] = test_df['Date'].dt.is_month_end.astype(int)"
   ]
  },
  {
   "cell_type": "markdown",
   "metadata": {},
   "source": [
    "Quarter"
   ]
  },
  {
   "cell_type": "code",
   "execution_count": 20,
   "metadata": {},
   "outputs": [],
   "source": [
    "# Extracting the quarter\n",
    "train_df['Quarter'] = train_df['Date'].dt.quarter\n",
    "test_df['Quarter'] = test_df['Date'].dt.quarter"
   ]
  },
  {
   "cell_type": "markdown",
   "metadata": {},
   "source": [
    "Day of the Year"
   ]
  },
  {
   "cell_type": "code",
   "execution_count": 21,
   "metadata": {},
   "outputs": [],
   "source": [
    "# Extracting the day of the year\n",
    "train_df['Day_of_Year'] = train_df['Date'].dt.dayofyear\n",
    "test_df['Day_of_Year'] = test_df['Date'].dt.dayofyear"
   ]
  },
  {
   "cell_type": "markdown",
   "metadata": {},
   "source": [
    "### Scaling Data:"
   ]
  },
  {
   "cell_type": "code",
   "execution_count": 32,
   "metadata": {},
   "outputs": [],
   "source": [
    "from sklearn.preprocessing import StandardScaler\n",
    "\n",
    "# Select all numeric features for scaling\n",
    "numeric_features = ['Days_To_Holiday', 'Days_After_Holiday', 'Day_of_Year']\n",
    "\n",
    "scaler = StandardScaler()\n",
    "\n",
    "# Fit and transform on train data\n",
    "train_df[numeric_features] = scaler.fit_transform(train_df[numeric_features])\n",
    "\n",
    "# Only transform on test data\n",
    "test_df[numeric_features] = scaler.transform(test_df[numeric_features])"
   ]
  },
  {
   "cell_type": "markdown",
   "metadata": {},
   "source": [
    "### Building Models with sklearn Pipelines"
   ]
  },
  {
   "cell_type": "markdown",
   "metadata": {},
   "source": [
    "#### Separate Features (X_train) and Target (y_train) in train_df"
   ]
  },
  {
   "cell_type": "code",
   "execution_count": 18,
   "metadata": {},
   "outputs": [],
   "source": [
    "# X_train: All columns except 'Sales' in train_df\n",
    "X_train = train_df.drop(columns=['Sales'])\n",
    "\n",
    "# y_train: The target variable (Sales) in train_df\n",
    "y_train = train_df['Sales']"
   ]
  },
  {
   "cell_type": "code",
   "execution_count": 19,
   "metadata": {},
   "outputs": [],
   "source": [
    "# X_test: All columns in test_df (without 'Sales' because it's unknown in test data)\n",
    "X_test = test_df  # assuming 'Sales' is not in test_df"
   ]
  },
  {
   "cell_type": "code",
   "execution_count": null,
   "metadata": {},
   "outputs": [],
   "source": []
  },
  {
   "cell_type": "code",
   "execution_count": null,
   "metadata": {},
   "outputs": [],
   "source": [
    "# Create a pipeline (with scaling and RandomForestRegressor model)\n",
    "pipeline = Pipeline([\n",
    "    ('scaler', StandardScaler()),  # Standardizing features\n",
    "    ('regressor', RandomForestRegressor(n_estimators=100, random_state=42))\n",
    "])\n",
    "\n",
    "# Fit the pipeline on training data (X_train, y_train)\n",
    "pipeline.fit(X_train, y_train)\n",
    "\n",
    "# Make predictions on test_df (X_test)\n",
    "y_test_pred = pipeline.predict(X_test)\n",
    "\n",
    "# y_test_pred contains the predicted sales for the test_df\n",
    "print(y_test_pred)"
   ]
  }
 ],
 "metadata": {
  "kernelspec": {
   "display_name": ".venv",
   "language": "python",
   "name": "python3"
  },
  "language_info": {
   "codemirror_mode": {
    "name": "ipython",
    "version": 3
   },
   "file_extension": ".py",
   "mimetype": "text/x-python",
   "name": "python",
   "nbconvert_exporter": "python",
   "pygments_lexer": "ipython3",
   "version": "3.12.6"
  }
 },
 "nbformat": 4,
 "nbformat_minor": 2
}
